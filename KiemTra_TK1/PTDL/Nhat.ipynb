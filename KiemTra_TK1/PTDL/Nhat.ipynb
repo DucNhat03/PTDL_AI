{
 "cells": [
  {
   "cell_type": "code",
   "execution_count": 1,
   "metadata": {},
   "outputs": [],
   "source": [
    "import pandas as pd\n"
   ]
  },
  {
   "cell_type": "code",
   "execution_count": 4,
   "metadata": {},
   "outputs": [],
   "source": [
    "df = pd.read_excel('./sales_data_sample.xlsx')"
   ]
  },
  {
   "cell_type": "code",
   "execution_count": 5,
   "metadata": {},
   "outputs": [
    {
     "data": {
      "text/html": [
       "<div>\n",
       "<style scoped>\n",
       "    .dataframe tbody tr th:only-of-type {\n",
       "        vertical-align: middle;\n",
       "    }\n",
       "\n",
       "    .dataframe tbody tr th {\n",
       "        vertical-align: top;\n",
       "    }\n",
       "\n",
       "    .dataframe thead th {\n",
       "        text-align: right;\n",
       "    }\n",
       "</style>\n",
       "<table border=\"1\" class=\"dataframe\">\n",
       "  <thead>\n",
       "    <tr style=\"text-align: right;\">\n",
       "      <th></th>\n",
       "      <th>ORDERNUMBER</th>\n",
       "      <th>QUANTITYORDERED</th>\n",
       "      <th>ORDERLINENUMBER</th>\n",
       "      <th>SALES</th>\n",
       "      <th>ORDERDATE</th>\n",
       "      <th>STATUS</th>\n",
       "      <th>COUNTRY</th>\n",
       "      <th>DEALSIZE</th>\n",
       "      <th>Discount</th>\n",
       "      <th>Profit</th>\n",
       "    </tr>\n",
       "  </thead>\n",
       "  <tbody>\n",
       "    <tr>\n",
       "      <th>0</th>\n",
       "      <td>10107</td>\n",
       "      <td>30</td>\n",
       "      <td>2</td>\n",
       "      <td>2871.00</td>\n",
       "      <td>2003-02-24</td>\n",
       "      <td>Shipped</td>\n",
       "      <td>USA</td>\n",
       "      <td>Small</td>\n",
       "      <td>0.00</td>\n",
       "      <td>41.9136</td>\n",
       "    </tr>\n",
       "    <tr>\n",
       "      <th>1</th>\n",
       "      <td>10121</td>\n",
       "      <td>34</td>\n",
       "      <td>5</td>\n",
       "      <td>2765.90</td>\n",
       "      <td>2003-05-07</td>\n",
       "      <td>Shipped</td>\n",
       "      <td>France</td>\n",
       "      <td>Small</td>\n",
       "      <td>0.00</td>\n",
       "      <td>219.5820</td>\n",
       "    </tr>\n",
       "    <tr>\n",
       "      <th>2</th>\n",
       "      <td>10134</td>\n",
       "      <td>41</td>\n",
       "      <td>2</td>\n",
       "      <td>3884.34</td>\n",
       "      <td>2003-07-01</td>\n",
       "      <td>Shipped</td>\n",
       "      <td>France</td>\n",
       "      <td>Medium</td>\n",
       "      <td>0.00</td>\n",
       "      <td>6.8714</td>\n",
       "    </tr>\n",
       "    <tr>\n",
       "      <th>3</th>\n",
       "      <td>10145</td>\n",
       "      <td>45</td>\n",
       "      <td>6</td>\n",
       "      <td>3746.70</td>\n",
       "      <td>2003-08-25</td>\n",
       "      <td>Shipped</td>\n",
       "      <td>USA</td>\n",
       "      <td>Medium</td>\n",
       "      <td>0.45</td>\n",
       "      <td>-383.0310</td>\n",
       "    </tr>\n",
       "    <tr>\n",
       "      <th>4</th>\n",
       "      <td>10159</td>\n",
       "      <td>49</td>\n",
       "      <td>14</td>\n",
       "      <td>5205.27</td>\n",
       "      <td>2003-10-10</td>\n",
       "      <td>Shipped</td>\n",
       "      <td>USA</td>\n",
       "      <td>Medium</td>\n",
       "      <td>0.20</td>\n",
       "      <td>2.5164</td>\n",
       "    </tr>\n",
       "    <tr>\n",
       "      <th>5</th>\n",
       "      <td>10168</td>\n",
       "      <td>36</td>\n",
       "      <td>1</td>\n",
       "      <td>3479.76</td>\n",
       "      <td>2003-10-28</td>\n",
       "      <td>Shipped</td>\n",
       "      <td>USA</td>\n",
       "      <td>Medium</td>\n",
       "      <td>0.00</td>\n",
       "      <td>14.1694</td>\n",
       "    </tr>\n",
       "    <tr>\n",
       "      <th>6</th>\n",
       "      <td>10180</td>\n",
       "      <td>29</td>\n",
       "      <td>9</td>\n",
       "      <td>2497.77</td>\n",
       "      <td>2003-11-11</td>\n",
       "      <td>Shipped</td>\n",
       "      <td>France</td>\n",
       "      <td>Small</td>\n",
       "      <td>0.00</td>\n",
       "      <td>1.9656</td>\n",
       "    </tr>\n",
       "    <tr>\n",
       "      <th>7</th>\n",
       "      <td>10188</td>\n",
       "      <td>48</td>\n",
       "      <td>1</td>\n",
       "      <td>5512.32</td>\n",
       "      <td>2003-11-18</td>\n",
       "      <td>Shipped</td>\n",
       "      <td>Norway</td>\n",
       "      <td>Medium</td>\n",
       "      <td>0.20</td>\n",
       "      <td>90.7152</td>\n",
       "    </tr>\n",
       "    <tr>\n",
       "      <th>8</th>\n",
       "      <td>10201</td>\n",
       "      <td>22</td>\n",
       "      <td>2</td>\n",
       "      <td>2168.54</td>\n",
       "      <td>2003-12-01</td>\n",
       "      <td>Shipped</td>\n",
       "      <td>USA</td>\n",
       "      <td>Small</td>\n",
       "      <td>0.20</td>\n",
       "      <td>5.7825</td>\n",
       "    </tr>\n",
       "    <tr>\n",
       "      <th>9</th>\n",
       "      <td>10211</td>\n",
       "      <td>41</td>\n",
       "      <td>14</td>\n",
       "      <td>4708.44</td>\n",
       "      <td>2004-01-15</td>\n",
       "      <td>Shipped</td>\n",
       "      <td>France</td>\n",
       "      <td>Medium</td>\n",
       "      <td>0.00</td>\n",
       "      <td>34.4700</td>\n",
       "    </tr>\n",
       "  </tbody>\n",
       "</table>\n",
       "</div>"
      ],
      "text/plain": [
       "   ORDERNUMBER  QUANTITYORDERED  ORDERLINENUMBER    SALES  ORDERDATE   STATUS  \\\n",
       "0        10107               30                2  2871.00 2003-02-24  Shipped   \n",
       "1        10121               34                5  2765.90 2003-05-07  Shipped   \n",
       "2        10134               41                2  3884.34 2003-07-01  Shipped   \n",
       "3        10145               45                6  3746.70 2003-08-25  Shipped   \n",
       "4        10159               49               14  5205.27 2003-10-10  Shipped   \n",
       "5        10168               36                1  3479.76 2003-10-28  Shipped   \n",
       "6        10180               29                9  2497.77 2003-11-11  Shipped   \n",
       "7        10188               48                1  5512.32 2003-11-18  Shipped   \n",
       "8        10201               22                2  2168.54 2003-12-01  Shipped   \n",
       "9        10211               41               14  4708.44 2004-01-15  Shipped   \n",
       "\n",
       "  COUNTRY DEALSIZE  Discount    Profit  \n",
       "0     USA    Small      0.00   41.9136  \n",
       "1  France    Small      0.00  219.5820  \n",
       "2  France   Medium      0.00    6.8714  \n",
       "3     USA   Medium      0.45 -383.0310  \n",
       "4     USA   Medium      0.20    2.5164  \n",
       "5     USA   Medium      0.00   14.1694  \n",
       "6  France    Small      0.00    1.9656  \n",
       "7  Norway   Medium      0.20   90.7152  \n",
       "8     USA    Small      0.20    5.7825  \n",
       "9  France   Medium      0.00   34.4700  "
      ]
     },
     "execution_count": 5,
     "metadata": {},
     "output_type": "execute_result"
    }
   ],
   "source": [
    "df.head(10)"
   ]
  },
  {
   "cell_type": "code",
   "execution_count": 10,
   "metadata": {},
   "outputs": [
    {
     "data": {
      "text/plain": [
       "COUNTRY\n",
       "USA            1004\n",
       "Spain           342\n",
       "France          314\n",
       "Australia       185\n",
       "UK              144\n",
       "Italy           113\n",
       "Finland          92\n",
       "Norway           85\n",
       "Singapore        79\n",
       "Canada           70\n",
       "Denmark          63\n",
       "Germany          62\n",
       "Sweden           57\n",
       "Austria          55\n",
       "Japan            52\n",
       "Belgium          33\n",
       "Switzerland      31\n",
       "Philippines      26\n",
       "Ireland          16\n",
       "Name: count, dtype: int64"
      ]
     },
     "execution_count": 10,
     "metadata": {},
     "output_type": "execute_result"
    }
   ],
   "source": [
    "# sum country in data\n",
    "df['COUNTRY'].value_counts()\n"
   ]
  },
  {
   "cell_type": "code",
   "execution_count": 11,
   "metadata": {},
   "outputs": [
    {
     "data": {
      "text/plain": [
       "(2823, 10)"
      ]
     },
     "execution_count": 11,
     "metadata": {},
     "output_type": "execute_result"
    }
   ],
   "source": [
    "# Cho biết kích thước của dữ liệu\n",
    "df.shape"
   ]
  },
  {
   "cell_type": "code",
   "execution_count": 16,
   "metadata": {},
   "outputs": [
    {
     "data": {
      "text/plain": [
       "1841.8651057401805"
      ]
     },
     "execution_count": 16,
     "metadata": {},
     "output_type": "execute_result"
    }
   ],
   "source": [
    "\n",
    "import numpy as np\n",
    "#Hãy cho biết độ lệch của giá trị đặt hàng của các sản phẩm\n",
    "np.std(df['SALES'], ddof=1)\n",
    "\n",
    "# std_dev_sample = np.std(sales, )\n",
    "\n"
   ]
  },
  {
   "cell_type": "code",
   "execution_count": 17,
   "metadata": {},
   "outputs": [
    {
     "name": "stderr",
     "output_type": "stream",
     "text": [
      "c:\\Users\\Admin\\anaconda3\\Lib\\site-packages\\sklearn\\base.py:464: UserWarning: X does not have valid feature names, but StandardScaler was fitted with feature names\n",
      "  warnings.warn(\n"
     ]
    },
    {
     "data": {
      "text/plain": [
       "array([[3.50039366]])"
      ]
     },
     "execution_count": 17,
     "metadata": {},
     "output_type": "execute_result"
    }
   ],
   "source": [
    "#Nếu sử dụng Z-Score Scaler cho SALES thì giá trị 10000 sẽ được scale thành bao nhiêu\n",
    "from sklearn.preprocessing import StandardScaler\n",
    "scaler = StandardScaler()\n",
    "scaler.fit(df[['SALES']])\n",
    "scaler.transform([[10000]])\n"
   ]
  },
  {
   "cell_type": "code",
   "execution_count": 18,
   "metadata": {},
   "outputs": [
    {
     "data": {
      "text/plain": [
       "1.7873782707746377"
      ]
     },
     "execution_count": 18,
     "metadata": {},
     "output_type": "execute_result"
    }
   ],
   "source": [
    "#Hãy cho biết mức độ nhọn của giá trị đặt hàng của các sản phẩm\n",
    "from scipy.stats import kurtosis\n",
    "kurtosis(df['SALES'])\n"
   ]
  },
  {
   "cell_type": "code",
   "execution_count": 19,
   "metadata": {},
   "outputs": [
    {
     "name": "stdout",
     "output_type": "stream",
     "text": [
      "Giá trị kurtosis là: 1.7873782707746377\n"
     ]
    }
   ],
   "source": [
    "import numpy as np\n",
    "from scipy.stats import kurtosis\n",
    "\n",
    "# Tính kurtosis\n",
    "kurt_value = kurtosis(df['SALES'])\n",
    "\n",
    "print(\"Giá trị kurtosis là:\", kurt_value)"
   ]
  },
  {
   "cell_type": "code",
   "execution_count": 22,
   "metadata": {},
   "outputs": [
    {
     "data": {
      "image/png": "[encoded data removed]",
      "text/plain": [
       "<Figure size 1000x600 with 1 Axes>"
      ]
     },
     "metadata": {},
     "output_type": "display_data"
    },
    {
     "name": "stdout",
     "output_type": "stream",
     "text": [
      "Trạng thái chỉ có 2 cột: Series([], Name: count, dtype: int64)\n"
     ]
    }
   ],
   "source": [
    "# Vẽ biểu đồ cột \n",
    "import matplotlib.pyplot as plt\n",
    "\n",
    "# Đếm số lượng cho mỗi trạng thái\n",
    "status_counts = df['STATUS'].value_counts()\n",
    "\n",
    "# Vẽ biểu đồ cột cho tất cả các trạng thái\n",
    "plt.figure(figsize=(10, 6))\n",
    "status_counts.plot(kind='bar', color='skyblue')\n",
    "plt.title('Số lượng trạng thái đơn hàng')\n",
    "plt.xlabel('Trạng thái')\n",
    "plt.ylabel('Số lượng')\n",
    "plt.xticks(rotation=0)\n",
    "plt.grid(axis='y', linestyle='--', alpha=0.7)\n",
    "plt.show()\n",
    "\n",
    "# Kiểm tra trạng thái chỉ có 2 cột\n",
    "two_columns_status = status_counts[status_counts == 2]\n",
    "print(\"Trạng thái chỉ có 2 cột:\", two_columns_status)"
   ]
  },
  {
   "cell_type": "code",
   "execution_count": null,
   "metadata": {},
   "outputs": [],
   "source": []
  },
  {
   "cell_type": "code",
   "execution_count": 25,
   "metadata": {},
   "outputs": [],
   "source": [
    "#Có mối liên hệ nào giữa trạng thái giao hàng và giá trị đặt hàng hay không\n",
    "# Trả về có hoặc không\n",
    "\n",
    "\n"
   ]
  },
  {
   "cell_type": "code",
   "execution_count": null,
   "metadata": {},
   "outputs": [],
   "source": []
  },
  {
   "cell_type": "code",
   "execution_count": 26,
   "metadata": {},
   "outputs": [
    {
     "name": "stderr",
     "output_type": "stream",
     "text": [
      "c:\\Users\\Admin\\anaconda3\\Lib\\site-packages\\sklearn\\base.py:464: UserWarning: X does not have valid feature names, but MaxAbsScaler was fitted with feature names\n",
      "  warnings.warn(\n"
     ]
    },
    {
     "data": {
      "text/plain": [
       "array([[0.00710086]])"
      ]
     },
     "execution_count": 26,
     "metadata": {},
     "output_type": "execute_result"
    }
   ],
   "source": [
    "# Nếu sử dụng Z-Score Scaler cho SALES, sau đó tiếp tục áp dụng Max Absolute Scaler thì giá trị có index = 100 được scale thành bao nhiêu\n",
    "from sklearn.preprocessing import MaxAbsScaler\n",
    "scaler = MaxAbsScaler()\n",
    "scaler.fit(df[['SALES']])\n",
    "scaler.transform([[100]])\n"
   ]
  },
  {
   "cell_type": "code",
   "execution_count": 27,
   "metadata": {},
   "outputs": [
    {
     "name": "stdout",
     "output_type": "stream",
     "text": [
      "Giá trị sau khi scale: 0.21980534776072624\n"
     ]
    }
   ],
   "source": [
    "import numpy as np\n",
    "from sklearn.preprocessing import StandardScaler, MaxAbsScaler\n",
    "\n",
    "# Dữ liệu SALES giả định\n",
    "sales = df['SALES']\n",
    "\n",
    "# Z-Score Scaling\n",
    "scaler_z = StandardScaler()\n",
    "sales_z = scaler_z.fit_transform(np.array(sales).reshape(-1, 1))\n",
    "\n",
    "# Max Absolute Scaling\n",
    "scaler_max_abs = MaxAbsScaler()\n",
    "sales_max_abs = scaler_max_abs.fit_transform(sales_z)\n",
    "\n",
    "# Giá trị tại index = 100 giả định\n",
    "value_index_100 = 100  # Thay đổi giá trị này nếu cần\n",
    "\n",
    "# Tính toán\n",
    "scaled_value = sales_max_abs[99]  # Lấy giá trị theo index\n",
    "\n",
    "print(\"Giá trị sau khi scale:\", scaled_value[0])\n"
   ]
  },
  {
   "cell_type": "code",
   "execution_count": 28,
   "metadata": {},
   "outputs": [
    {
     "data": {
      "text/plain": [
       "array([[4014.27378493]])"
      ]
     },
     "execution_count": 28,
     "metadata": {},
     "output_type": "execute_result"
    }
   ],
   "source": [
    "#Cho biết giá trị của SALES sau khi dùng chuẩn hóa Z-Score Scaler là 0.25, hỏi giá trị trước chuẩn hóa là bao nhiêu\n",
    "from sklearn.preprocessing import StandardScaler\n",
    "scaler = StandardScaler()\n",
    "scaler.fit(df[['SALES']])\n",
    "scaler.inverse_transform([[0.25]])\n"
   ]
  },
  {
   "cell_type": "code",
   "execution_count": 29,
   "metadata": {},
   "outputs": [
    {
     "data": {
      "text/plain": [
       "0.5213241826022745"
      ]
     },
     "execution_count": 29,
     "metadata": {},
     "output_type": "execute_result"
    }
   ],
   "source": [
    "# Hãy cho biết mức độ lệch của SALES sau khi được transform qua hàm log\n",
    "np.std(np.log(df['SALES']), ddof=1)\n",
    "\n",
    "\n",
    "\n"
   ]
  },
  {
   "cell_type": "code",
   "execution_count": 30,
   "metadata": {},
   "outputs": [
    {
     "data": {
      "text/plain": [
       "1841.8651057401805"
      ]
     },
     "execution_count": 30,
     "metadata": {},
     "output_type": "execute_result"
    }
   ],
   "source": [
    "# Hãy cho biết mức độ lệch của SALES trước khi được transform qua hàm log\n",
    "np.std(df['SALES'], ddof=1)\n"
   ]
  },
  {
   "cell_type": "code",
   "execution_count": 35,
   "metadata": {},
   "outputs": [
    {
     "data": {
      "text/plain": [
       "COUNTRY\n",
       "USA            3627982.83\n",
       "Spain          1215686.92\n",
       "France         1110916.52\n",
       "Australia       630623.10\n",
       "UK              478880.46\n",
       "Italy           374674.31\n",
       "Finland         329581.91\n",
       "Norway          307463.70\n",
       "Singapore       288488.41\n",
       "Denmark         245637.15\n",
       "Canada          224078.56\n",
       "Germany         220472.09\n",
       "Sweden          210014.21\n",
       "Austria         202062.53\n",
       "Japan           188167.81\n",
       "Switzerland     117713.56\n",
       "Belgium         108412.62\n",
       "Philippines      94015.73\n",
       "Ireland          57756.43\n",
       "Name: SALES, dtype: float64"
      ]
     },
     "execution_count": 35,
     "metadata": {},
     "output_type": "execute_result"
    }
   ],
   "source": [
    "#Hãy cho biết tổng doanh số đặt hàng ở quốc gia nào nhiều ở vị trí thứ 5\n",
    "df.groupby('COUNTRY')['SALES'].sum().sort_values(ascending=False)"
   ]
  },
  {
   "cell_type": "code",
   "execution_count": 36,
   "metadata": {},
   "outputs": [
    {
     "data": {
      "text/plain": [
       "array([[0.5714917 ],\n",
       "       [0.14223049],\n",
       "       [0.26896469],\n",
       "       [0.84693401],\n",
       "       [0.25104351],\n",
       "       [0.16997177],\n",
       "       [0.20775741],\n",
       "       [0.34636676],\n",
       "       [0.3334174 ],\n",
       "       [0.23372378]])"
      ]
     },
     "execution_count": 36,
     "metadata": {},
     "output_type": "execute_result"
    }
   ],
   "source": [
    "#Nếu sử dụng Min-Max Scaler cho SALES thì giá trị có index từ 50 đên 59 được scale thành bao nhiêu\n",
    "from sklearn.preprocessing import MinMaxScaler\n",
    "scaler = MinMaxScaler()\n",
    "scaler.fit(df[['SALES']])\n",
    "scaler.transform(df[['SALES']][50:60])\n"
   ]
  },
  {
   "cell_type": "code",
   "execution_count": 37,
   "metadata": {},
   "outputs": [
    {
     "name": "stdout",
     "output_type": "stream",
     "text": [
      "DEALSIZE\n",
      "Small      577.183322\n",
      "Medium    1047.090148\n",
      "Large     1294.739895\n",
      "Name: SALES, dtype: float64\n"
     ]
    }
   ],
   "source": [
    "# Tạo DataFrame\n",
    "\n",
    "# Tính độ lệch chuẩn theo nhóm kích thước đặt hàng\n",
    "std_dev_by_size = df.groupby('DEALSIZE')['SALES'].std()\n",
    "\n",
    "# Sắp xếp theo độ lệch chuẩn\n",
    "sorted_sizes = std_dev_by_size.sort_values()\n",
    "\n",
    "print(sorted_sizes)"
   ]
  },
  {
   "cell_type": "code",
   "execution_count": 38,
   "metadata": {},
   "outputs": [],
   "source": [
    "#Có mối liên hệ nào giữa trạng thái giao hàng và kích thước đặt hàng hay không\n",
    "# Trả về có hoặc không\n",
    "# Có mối liên hệ giữa trạng thái giao hàng và kích thước đ\n",
    "# ặt hàng\n",
    "def check_relation(order_status, order_size):\n",
    "    # Tạo bảng tần số\n",
    "    crosstab = pd.crosstab(order_status, order_size)\n",
    "    \n",
    "    # Kiểm tra mối liên hệ\n",
    "    chi2, p, _, _ = chi2_contingency(crosstab)\n",
    "    \n",
    "    # Kiểm tra mức ý nghĩa\n",
    "    alpha = 0.05\n",
    "    if p <= alpha:\n",
    "        return 'Có'\n",
    "    else:\n",
    "        return 'Không'"
   ]
  },
  {
   "cell_type": "code",
   "execution_count": 41,
   "metadata": {},
   "outputs": [
    {
     "name": "stdout",
     "output_type": "stream",
     "text": [
      "Không\n"
     ]
    }
   ],
   "source": [
    "import pandas as pd\n",
    "from scipy.stats import chi2_contingency\n",
    "\n",
    "# Hàm kiểm tra mối liên hệ\n",
    "def check_relation(df):\n",
    "    # Tạo bảng tần số\n",
    "    crosstab = pd.crosstab(df['STATUS'], df['SALES'])\n",
    "    \n",
    "    # Kiểm tra mối liên hệ\n",
    "    chi2, p, _, _ = chi2_contingency(crosstab)\n",
    "    \n",
    "    # Kiểm tra mức ý nghĩa\n",
    "    alpha = 0.05\n",
    "    if p <= alpha:\n",
    "        return 'Có'\n",
    "    else:\n",
    "        return 'Không'\n",
    "\n",
    "# Sử dụng hàm với dữ liệu của bạn\n",
    "result = check_relation(df)\n",
    "print(result)\n",
    "\n"
   ]
  },
  {
   "cell_type": "code",
   "execution_count": null,
   "metadata": {},
   "outputs": [],
   "source": [
    "#Nếu sử dụng Z-Score Scaler cho SALES, sau đó tiếp tục áp dụng Max Absolute Scaler thì giá trị có index = 100 được scale thành bao nhiêu\n",
    "\n",
    "from sklearn.preprocessing import StandardScaler, MaxAbsScaler\n",
    "from sklearn.preprocessing import MinMaxScaler, RobustScaler, QuantileScaler, PowerTransformer\n"
   ]
  },
  {
   "cell_type": "code",
   "execution_count": 43,
   "metadata": {},
   "outputs": [
    {
     "name": "stdout",
     "output_type": "stream",
     "text": [
      "1841.8651057401805\n",
      "1.7873782707746377\n"
     ]
    }
   ],
   "source": [
    "# Hãy cho biết độ lệch của giá trị đặt hàng của các sản phẩm\n",
    "\n",
    "\n",
    "# a.\n",
    "# 1.161076000881289\n",
    "\n",
    "\n",
    "# b.\n",
    "# 1.461076000881289\n",
    "\n",
    "\n",
    "# c.\n",
    "# 1.191076000881289\n",
    "\n",
    "\n",
    "# d.\n",
    "# 1.361076000881289\n",
    "\n",
    "\n",
    "# e.\n",
    "# 1.261076000881289\n",
    "\n",
    "# giải và chọn đáp án\n",
    "import numpy as np\n",
    "# giá trị đặt hàng của các sản phẩm\n",
    "sales = df['SALES']\n",
    "# tính độ lệch chuẩn\n",
    "std_dev_sample = np.std(sales, ddof=1)\n",
    "print(std_dev_sample)\n",
    "# tính độ lệch tuyệt đối\n",
    "kurt_value = kurtosis(sales)\n",
    "print(kurt_value)\n"
   ]
  },
  {
   "cell_type": "code",
   "execution_count": 44,
   "metadata": {},
   "outputs": [
    {
     "name": "stdout",
     "output_type": "stream",
     "text": [
      "Độ lệch chuẩn của giá trị đặt hàng: 1841.8651057401805\n"
     ]
    }
   ],
   "source": [
    "std_dev_sales = df['SALES'].std()\n",
    "\n",
    "print(\"Độ lệch chuẩn của giá trị đặt hàng:\", std_dev_sales)"
   ]
  },
  {
   "cell_type": "code",
   "execution_count": 45,
   "metadata": {},
   "outputs": [
    {
     "name": "stdout",
     "output_type": "stream",
     "text": [
      "        SALES   Z_Score\n",
      "0     2871.00 -0.370760\n",
      "1     2765.90 -0.427821\n",
      "2     3884.34  0.179411\n",
      "3     3746.70  0.104682\n",
      "4     5205.27  0.896581\n",
      "...       ...       ...\n",
      "2818  2244.40 -0.710958\n",
      "2819  3978.51  0.230539\n",
      "2820  5417.57  1.011844\n",
      "2821  2116.16 -0.780583\n",
      "2822  3079.44 -0.257592\n",
      "\n",
      "[2823 rows x 2 columns]\n"
     ]
    }
   ],
   "source": [
    "import pandas as pd\n",
    "\n",
    "# Giả sử df đã được định nghĩa và có cột SALES\n",
    "# df = pd.DataFrame({'SALES': [2871, 2765.9, 3884.34, ...]})\n",
    "\n",
    "# Tính giá trị trung bình và độ lệch chuẩn\n",
    "mean_sales = df['SALES'].mean()\n",
    "std_dev_sales = df['SALES'].std()\n",
    "\n",
    "# Tính z-score cho từng giá trị\n",
    "df['Z_Score'] = (df['SALES'] - mean_sales) / std_dev_sales\n",
    "\n",
    "# Hiển thị z-score cho từng giá trị\n",
    "print(df[['SALES', 'Z_Score']])\n"
   ]
  },
  {
   "cell_type": "code",
   "execution_count": 46,
   "metadata": {},
   "outputs": [
    {
     "name": "stdout",
     "output_type": "stream",
     "text": [
      "        SALES   Z_Score\n",
      "0     2871.00 -0.370760\n",
      "1     2765.90 -0.427821\n",
      "2     3884.34  0.179411\n",
      "3     3746.70  0.104682\n",
      "4     5205.27  0.896581\n",
      "...       ...       ...\n",
      "2818  2244.40 -0.710958\n",
      "2819  3978.51  0.230539\n",
      "2820  5417.57  1.011844\n",
      "2821  2116.16 -0.780583\n",
      "2822  3079.44 -0.257592\n",
      "\n",
      "[2823 rows x 2 columns]\n",
      "Z-Score cho giá trị 10000 là: 3.4997736305451204\n"
     ]
    }
   ],
   "source": [
    "import pandas as pd\n",
    "\n",
    "# Giả sử df đã được định nghĩa và có cột SALES\n",
    "# df = pd.DataFrame({'SALES': [2871, 2765.9, 3884.34, ...]})\n",
    "\n",
    "# Tính giá trị trung bình và độ lệch chuẩn\n",
    "mean_sales = df['SALES'].mean()\n",
    "std_dev_sales = df['SALES'].std()\n",
    "\n",
    "# Tính z-score cho từng giá trị trong cột SALES\n",
    "df['Z_Score'] = (df['SALES'] - mean_sales) / std_dev_sales\n",
    "\n",
    "# Hiển thị z-score\n",
    "print(df[['SALES', 'Z_Score']])\n",
    "\n",
    "# Nếu bạn muốn tìm giá trị z-score cho một giá trị cụ thể, bạn có thể làm như sau\n",
    "specific_value = 10000  # Thay bằng giá trị bạn muốn tính\n",
    "z_score_specific = (specific_value - mean_sales) / std_dev_sales\n",
    "print(\"Z-Score cho giá trị 10000 là:\", z_score_specific)\n"
   ]
  },
  {
   "cell_type": "code",
   "execution_count": 49,
   "metadata": {},
   "outputs": [
    {
     "name": "stdout",
     "output_type": "stream",
     "text": [
      "Giá trị trung bình: 3553.889071909316\n",
      "Độ lệch chuẩn: 1841.8651057401805\n",
      "        SALES   Z_Score\n",
      "0     2871.00 -0.370760\n",
      "1     2765.90 -0.427821\n",
      "2     3884.34  0.179411\n",
      "3     3746.70  0.104682\n",
      "4     5205.27  0.896581\n",
      "...       ...       ...\n",
      "2818  2244.40 -0.710958\n",
      "2819  3978.51  0.230539\n",
      "2820  5417.57  1.011844\n",
      "2821  2116.16 -0.780583\n",
      "2822  3079.44 -0.257592\n",
      "\n",
      "[2823 rows x 2 columns]\n",
      "Độ lệch chuẩn của z-score: 1.8122237681447825e-16\n"
     ]
    }
   ],
   "source": [
    "import pandas as pd\n",
    "\n",
    "\n",
    "# Tính giá trị trung bình và độ lệch chuẩn\n",
    "mean_sales = df['SALES'].mean()\n",
    "std_dev_sales = df['SALES'].std()\n",
    "\n",
    "print(\"Giá trị trung bình:\", mean_sales)\n",
    "print(\"Độ lệch chuẩn:\", std_dev_sales)\n",
    "\n",
    "# Tính z-score\n",
    "df['Z_Score'] = (df['SALES'] - mean_sales) / std_dev_sales\n",
    "\n",
    "# Hiển thị z-score\n",
    "print(df[['SALES', 'Z_Score']])\n",
    "\n",
    "# tính std của z-score\n",
    "std_dev_z_score = df['Z_Score'].mean()\n",
    "print(\"Độ lệch chuẩn của z-score:\", std_dev_z_score)\n"
   ]
  },
  {
   "cell_type": "code",
   "execution_count": null,
   "metadata": {},
   "outputs": [
    {
     "name": "stdout",
     "output_type": "stream",
     "text": [
      "Giá trị kurtosis là: 1.7873782707746377\n"
     ]
    }
   ],
   "source": [
    "import numpy as np\n",
    "from scipy.stats import kurtosis\n",
    "\n",
    "# Tính kurtosis\n",
    "kurt_value = kurtosis(df['SALES'])\n",
    "\n",
    "print(\"Giá trị kurtosis là:\", kurt_value)"
   ]
  },
  {
   "cell_type": "code",
   "execution_count": null,
   "metadata": {},
   "outputs": [],
   "source": []
  },
  {
   "cell_type": "code",
   "execution_count": null,
   "metadata": {},
   "outputs": [],
   "source": []
  }
 ],
 "metadata": {
  "kernelspec": {
   "display_name": "base",
   "language": "python",
   "name": "python3"
  },
  "language_info": {
   "codemirror_mode": {
    "name": "ipython",
    "version": 3
   },
   "file_extension": ".py",
   "mimetype": "text/x-python",
   "name": "python",
   "nbconvert_exporter": "python",
   "pygments_lexer": "ipython3",
   "version": "3.11.5"
  }
 },
 "nbformat": 4,
 "nbformat_minor": 2
}
