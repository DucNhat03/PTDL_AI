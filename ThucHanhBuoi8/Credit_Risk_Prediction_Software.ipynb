{
 "cells": [
  {
   "cell_type": "markdown",
   "id": "3ad1b8de",
   "metadata": {},
   "source": [
    "### Import các Thư Viện Cần Thiết"
   ]
  },
  {
   "cell_type": "code",
   "execution_count": 1,
   "id": "a41954f1",
   "metadata": {},
   "outputs": [],
   "source": [
    "\n",
    "import pandas as pd\n",
    "from sklearn.model_selection import train_test_split\n",
    "from sklearn.preprocessing import OneHotEncoder, MinMaxScaler\n",
    "from sklearn.naive_bayes import GaussianNB\n",
    "from sklearn.metrics import accuracy_score, confusion_matrix\n"
   ]
  },
  {
   "cell_type": "markdown",
   "id": "b46f4d4d",
   "metadata": {},
   "source": [
    "### Đọc Dữ Liệu và Chuẩn Bị"
   ]
  },
  {
   "cell_type": "code",
   "execution_count": 4,
   "id": "d0c99f55",
   "metadata": {},
   "outputs": [
    {
     "name": "stdout",
     "output_type": "stream",
     "text": [
      "Model accuracy score: 28.51%\n",
      "Confusion Matrix:\n",
      "[[ 633 6376]\n",
      " [  58 1933]]\n"
     ]
    }
   ],
   "source": [
    "import pandas as pd\n",
    "from sklearn.model_selection import train_test_split\n",
    "from sklearn.preprocessing import OneHotEncoder, MinMaxScaler\n",
    "from sklearn.naive_bayes import GaussianNB\n",
    "from sklearn.metrics import accuracy_score, confusion_matrix\n",
    "\n",
    "# Đọc dữ liệu từ CSV\n",
    "data = pd.read_csv(\"./UCI_Credit_Card.csv\")\n",
    "\n",
    "# Xử lý giá trị thiếu bằng mode\n",
    "data['EDUCATION'].fillna(data['EDUCATION'].mode()[0], inplace=True)\n",
    "data['MARRIAGE'].fillna(data['MARRIAGE'].mode()[0], inplace=True)\n",
    "\n",
    "# Tách dữ liệu thành biến độc lập và phụ thuộc\n",
    "X = data.drop(['ID', 'default.payment.next.month'], axis=1)\n",
    "y = data['default.payment.next.month']\n",
    "\n",
    "# Mã hóa các biến phân loại với One-Hot Encoding (sử dụng sparse_output=False)\n",
    "encoder = OneHotEncoder(sparse_output=False)\n",
    "cols = ['SEX', 'EDUCATION', 'MARRIAGE']\n",
    "\n",
    "X_encoded = encoder.fit_transform(X[cols])\n",
    "X = X.drop(cols, axis=1)\n",
    "X = pd.concat([X.reset_index(drop=True), pd.DataFrame(X_encoded)], axis=1)\n",
    "\n",
    "# Đảm bảo tất cả tên cột là chuỗi\n",
    "X.columns = X.columns.astype(str)\n",
    "\n",
    "# Chuẩn hóa dữ liệu với MinMaxScaler\n",
    "scaler = MinMaxScaler()\n",
    "X_scaled = scaler.fit_transform(X)\n",
    "\n",
    "# Chia dữ liệu thành tập huấn luyện và kiểm tra\n",
    "X_train, X_test, y_train, y_test = train_test_split(\n",
    "    X_scaled, y, test_size=0.3, random_state=42, stratify=y\n",
    ")\n",
    "\n",
    "# Khởi tạo và huấn luyện mô hình Gaussian Naive Bayes\n",
    "model = GaussianNB()\n",
    "model.fit(X_train, y_train)\n",
    "\n",
    "# Dự báo trên tập kiểm tra\n",
    "y_pred = model.predict(X_test)\n",
    "\n",
    "# Tính độ chính xác và hiển thị ma trận confusion matrix\n",
    "accuracy = accuracy_score(y_test, y_pred)\n",
    "print(f'Model accuracy score: {accuracy * 100:.2f}%')\n",
    "\n",
    "cm = confusion_matrix(y_test, y_pred)\n",
    "print('Confusion Matrix:')\n",
    "print(cm)\n"
   ]
  },
  {
   "cell_type": "markdown",
   "id": "0a450964",
   "metadata": {},
   "source": [
    "### Phần Mềm Dự Báo Rủi Ro Tín Dụng"
   ]
  },
  {
   "cell_type": "code",
   "execution_count": 5,
   "id": "83aefc6b",
   "metadata": {},
   "outputs": [
    {
     "name": "stdout",
     "output_type": "stream",
     "text": [
      "Đã xảy ra lỗi: X has 20 features, but MinMaxScaler is expecting 33 features as input.\n"
     ]
    },
    {
     "name": "stderr",
     "output_type": "stream",
     "text": [
      "c:\\Users\\Admin\\anaconda3\\Lib\\site-packages\\sklearn\\base.py:464: UserWarning: X does not have valid feature names, but OneHotEncoder was fitted with feature names\n",
      "  warnings.warn(\n",
      "c:\\Users\\Admin\\anaconda3\\Lib\\site-packages\\sklearn\\base.py:464: UserWarning: X does not have valid feature names, but MinMaxScaler was fitted with feature names\n",
      "  warnings.warn(\n"
     ]
    }
   ],
   "source": [
    "\n",
    "def predict_credit_risk():\n",
    "    try:\n",
    "        # Nhập các thông tin từ người dùng\n",
    "        limit_bal = float(input(\"Nhập LIMIT_BAL: \"))\n",
    "        sex = int(input(\"Nhập SEX (1 = Nam, 2 = Nữ): \"))\n",
    "        education = int(input(\"Nhập EDUCATION (1, 2, 3,...): \"))\n",
    "        marriage = int(input(\"Nhập MARRIAGE (1 = Độc thân, 2 = Đã kết hôn, 3 = Khác): \"))\n",
    "        age = float(input(\"Nhập AGE: \"))\n",
    "        pay_amt1 = float(input(\"Nhập PAY_AMT1: \"))\n",
    "        bill_amt1 = float(input(\"Nhập BILL_AMT1: \"))\n",
    "\n",
    "        # Chuẩn bị dữ liệu cho dự báo\n",
    "        input_data = [[limit_bal, sex, education, marriage, age, bill_amt1, pay_amt1]]\n",
    "        input_data_encoded = encoder.transform([[sex, education, marriage]])\n",
    "        input_data_final = scaler.transform(\n",
    "            pd.concat([pd.DataFrame(input_data), pd.DataFrame(input_data_encoded)], axis=1)\n",
    "        )\n",
    "\n",
    "        # Dự báo\n",
    "        prediction = model.predict(input_data_final)\n",
    "        if prediction[0] == 1:\n",
    "            print(\"Rủi ro tín dụng cao.\")\n",
    "        else:\n",
    "            print(\"Rủi ro tín dụng thấp.\")\n",
    "    except Exception as e:\n",
    "        print(f\"Đã xảy ra lỗi: {e}\")\n",
    "\n",
    "# Gọi hàm dự báo\n",
    "predict_credit_risk()\n"
   ]
  }
 ],
 "metadata": {
  "kernelspec": {
   "display_name": "base",
   "language": "python",
   "name": "python3"
  },
  "language_info": {
   "codemirror_mode": {
    "name": "ipython",
    "version": 3
   },
   "file_extension": ".py",
   "mimetype": "text/x-python",
   "name": "python",
   "nbconvert_exporter": "python",
   "pygments_lexer": "ipython3",
   "version": "3.11.5"
  }
 },
 "nbformat": 4,
 "nbformat_minor": 5
}
